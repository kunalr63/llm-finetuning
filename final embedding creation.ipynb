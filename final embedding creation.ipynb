{
 "cells": [
  {
   "cell_type": "markdown",
   "id": "55880c42-2d72-4486-b9a3-4a4e31ae46b8",
   "metadata": {
    "tags": []
   },
   "source": [
    "# Installing Important Libraries"
   ]
  },
  {
   "cell_type": "code",
   "execution_count": 1,
   "id": "0981b77f-dc0b-4100-9000-cf2f8b1eda27",
   "metadata": {
    "tags": []
   },
   "outputs": [
    {
     "name": "stdout",
     "output_type": "stream",
     "text": [
      "\u001b[33m  WARNING: The script langsmith is installed in '/home/jupyter/.local/bin' which is not on PATH.\n",
      "  Consider adding this directory to PATH or, if you prefer to suppress this warning, use --no-warn-script-location.\u001b[0m\u001b[33m\n",
      "\u001b[0m\u001b[33m  WARNING: The script langchain-server is installed in '/home/jupyter/.local/bin' which is not on PATH.\n",
      "  Consider adding this directory to PATH or, if you prefer to suppress this warning, use --no-warn-script-location.\u001b[0m\u001b[33m\n",
      "\u001b[0mNote: you may need to restart the kernel to use updated packages.\n"
     ]
    }
   ],
   "source": [
    "%pip install --upgrade --quiet --user langchain langchain-community langchainhub langchain_community langchain-openai langchain-core langchain-google-vertexai langchain-chroma"
   ]
  },
  {
   "cell_type": "code",
   "execution_count": 2,
   "id": "f0f87fc7-7a49-4fe6-944c-c3615b9f186e",
   "metadata": {
    "tags": []
   },
   "outputs": [],
   "source": [
    "!pip install pypdf --quiet"
   ]
  },
  {
   "cell_type": "code",
   "execution_count": 3,
   "id": "5d909c45-01e5-4e72-a137-098ef4d9c46f",
   "metadata": {
    "tags": []
   },
   "outputs": [
    {
     "name": "stdout",
     "output_type": "stream",
     "text": [
      "Python 3.10.14\n"
     ]
    }
   ],
   "source": [
    "!python --version"
   ]
  },
  {
   "cell_type": "code",
   "execution_count": 25,
   "id": "1cdf1322-229c-46bf-afe4-717f46f71131",
   "metadata": {
    "tags": []
   },
   "outputs": [],
   "source": [
    "!pip install -U sentence-transformers"
   ]
  },
  {
   "cell_type": "code",
   "execution_count": 3,
   "id": "e0e46b96-bda1-47e0-af10-94b44d226e2b",
   "metadata": {
    "tags": []
   },
   "outputs": [
    {
     "name": "stdout",
     "output_type": "stream",
     "text": [
      "Collecting langchain_huggingface\n",
      "  Using cached langchain_huggingface-0.0.3-py3-none-any.whl.metadata (1.2 kB)\n",
      "Requirement already satisfied: huggingface-hub>=0.23.0 in /home/jupyter/.local/lib/python3.10/site-packages (from langchain_huggingface) (0.23.2)\n",
      "Requirement already satisfied: langchain-core<0.3,>=0.1.52 in /home/jupyter/.local/lib/python3.10/site-packages (from langchain_huggingface) (0.2.7)\n",
      "Collecting sentence-transformers>=2.6.0 (from langchain_huggingface)\n",
      "  Using cached sentence_transformers-3.0.1-py3-none-any.whl.metadata (10 kB)\n",
      "Requirement already satisfied: tokenizers>=0.19.1 in /home/jupyter/.local/lib/python3.10/site-packages (from langchain_huggingface) (0.19.1)\n",
      "Requirement already satisfied: transformers>=4.39.0 in /home/jupyter/.local/lib/python3.10/site-packages (from langchain_huggingface) (4.41.2)\n",
      "Requirement already satisfied: filelock in /opt/conda/lib/python3.10/site-packages (from huggingface-hub>=0.23.0->langchain_huggingface) (3.13.4)\n",
      "Requirement already satisfied: fsspec>=2023.5.0 in /opt/conda/lib/python3.10/site-packages (from huggingface-hub>=0.23.0->langchain_huggingface) (2024.3.1)\n",
      "Requirement already satisfied: packaging>=20.9 in /home/jupyter/.local/lib/python3.10/site-packages (from huggingface-hub>=0.23.0->langchain_huggingface) (23.2)\n",
      "Requirement already satisfied: pyyaml>=5.1 in /opt/conda/lib/python3.10/site-packages (from huggingface-hub>=0.23.0->langchain_huggingface) (6.0.1)\n",
      "Requirement already satisfied: requests in /opt/conda/lib/python3.10/site-packages (from huggingface-hub>=0.23.0->langchain_huggingface) (2.31.0)\n",
      "Requirement already satisfied: tqdm>=4.42.1 in /opt/conda/lib/python3.10/site-packages (from huggingface-hub>=0.23.0->langchain_huggingface) (4.66.2)\n",
      "Requirement already satisfied: typing-extensions>=3.7.4.3 in /opt/conda/lib/python3.10/site-packages (from huggingface-hub>=0.23.0->langchain_huggingface) (4.11.0)\n",
      "Requirement already satisfied: jsonpatch<2.0,>=1.33 in /opt/conda/lib/python3.10/site-packages (from langchain-core<0.3,>=0.1.52->langchain_huggingface) (1.33)\n",
      "Requirement already satisfied: langsmith<0.2.0,>=0.1.75 in /home/jupyter/.local/lib/python3.10/site-packages (from langchain-core<0.3,>=0.1.52->langchain_huggingface) (0.1.77)\n",
      "Requirement already satisfied: pydantic<3,>=1 in /opt/conda/lib/python3.10/site-packages (from langchain-core<0.3,>=0.1.52->langchain_huggingface) (1.10.15)\n",
      "Requirement already satisfied: tenacity<9.0.0,>=8.1.0 in /opt/conda/lib/python3.10/site-packages (from langchain-core<0.3,>=0.1.52->langchain_huggingface) (8.2.3)\n",
      "Requirement already satisfied: torch>=1.11.0 in /home/jupyter/.local/lib/python3.10/site-packages (from sentence-transformers>=2.6.0->langchain_huggingface) (2.3.0)\n",
      "Requirement already satisfied: numpy in /opt/conda/lib/python3.10/site-packages (from sentence-transformers>=2.6.0->langchain_huggingface) (1.25.2)\n",
      "Requirement already satisfied: scikit-learn in /opt/conda/lib/python3.10/site-packages (from sentence-transformers>=2.6.0->langchain_huggingface) (1.4.2)\n",
      "Requirement already satisfied: scipy in /opt/conda/lib/python3.10/site-packages (from sentence-transformers>=2.6.0->langchain_huggingface) (1.11.4)\n",
      "Requirement already satisfied: Pillow in /opt/conda/lib/python3.10/site-packages (from sentence-transformers>=2.6.0->langchain_huggingface) (10.3.0)\n",
      "Requirement already satisfied: regex!=2019.12.17 in /home/jupyter/.local/lib/python3.10/site-packages (from transformers>=4.39.0->langchain_huggingface) (2024.5.15)\n",
      "Requirement already satisfied: safetensors>=0.4.1 in /home/jupyter/.local/lib/python3.10/site-packages (from transformers>=4.39.0->langchain_huggingface) (0.4.3)\n",
      "Requirement already satisfied: jsonpointer>=1.9 in /opt/conda/lib/python3.10/site-packages (from jsonpatch<2.0,>=1.33->langchain-core<0.3,>=0.1.52->langchain_huggingface) (2.4)\n",
      "Requirement already satisfied: orjson<4.0.0,>=3.9.14 in /home/jupyter/.local/lib/python3.10/site-packages (from langsmith<0.2.0,>=0.1.75->langchain-core<0.3,>=0.1.52->langchain_huggingface) (3.10.3)\n",
      "Requirement already satisfied: charset-normalizer<4,>=2 in /opt/conda/lib/python3.10/site-packages (from requests->huggingface-hub>=0.23.0->langchain_huggingface) (3.3.2)\n",
      "Requirement already satisfied: idna<4,>=2.5 in /opt/conda/lib/python3.10/site-packages (from requests->huggingface-hub>=0.23.0->langchain_huggingface) (3.7)\n",
      "Requirement already satisfied: urllib3<3,>=1.21.1 in /home/jupyter/.local/lib/python3.10/site-packages (from requests->huggingface-hub>=0.23.0->langchain_huggingface) (2.2.1)\n",
      "Requirement already satisfied: certifi>=2017.4.17 in /opt/conda/lib/python3.10/site-packages (from requests->huggingface-hub>=0.23.0->langchain_huggingface) (2024.2.2)\n",
      "Requirement already satisfied: sympy in /home/jupyter/.local/lib/python3.10/site-packages (from torch>=1.11.0->sentence-transformers>=2.6.0->langchain_huggingface) (1.12.1)\n",
      "Requirement already satisfied: networkx in /opt/conda/lib/python3.10/site-packages (from torch>=1.11.0->sentence-transformers>=2.6.0->langchain_huggingface) (3.3)\n",
      "Requirement already satisfied: jinja2 in /opt/conda/lib/python3.10/site-packages (from torch>=1.11.0->sentence-transformers>=2.6.0->langchain_huggingface) (3.1.3)\n",
      "Requirement already satisfied: nvidia-cuda-nvrtc-cu12==12.1.105 in /home/jupyter/.local/lib/python3.10/site-packages (from torch>=1.11.0->sentence-transformers>=2.6.0->langchain_huggingface) (12.1.105)\n",
      "Requirement already satisfied: nvidia-cuda-runtime-cu12==12.1.105 in /home/jupyter/.local/lib/python3.10/site-packages (from torch>=1.11.0->sentence-transformers>=2.6.0->langchain_huggingface) (12.1.105)\n",
      "Requirement already satisfied: nvidia-cuda-cupti-cu12==12.1.105 in /home/jupyter/.local/lib/python3.10/site-packages (from torch>=1.11.0->sentence-transformers>=2.6.0->langchain_huggingface) (12.1.105)\n",
      "Requirement already satisfied: nvidia-cudnn-cu12==8.9.2.26 in /home/jupyter/.local/lib/python3.10/site-packages (from torch>=1.11.0->sentence-transformers>=2.6.0->langchain_huggingface) (8.9.2.26)\n",
      "Requirement already satisfied: nvidia-cublas-cu12==12.1.3.1 in /home/jupyter/.local/lib/python3.10/site-packages (from torch>=1.11.0->sentence-transformers>=2.6.0->langchain_huggingface) (12.1.3.1)\n",
      "Requirement already satisfied: nvidia-cufft-cu12==11.0.2.54 in /home/jupyter/.local/lib/python3.10/site-packages (from torch>=1.11.0->sentence-transformers>=2.6.0->langchain_huggingface) (11.0.2.54)\n",
      "Requirement already satisfied: nvidia-curand-cu12==10.3.2.106 in /home/jupyter/.local/lib/python3.10/site-packages (from torch>=1.11.0->sentence-transformers>=2.6.0->langchain_huggingface) (10.3.2.106)\n",
      "Requirement already satisfied: nvidia-cusolver-cu12==11.4.5.107 in /home/jupyter/.local/lib/python3.10/site-packages (from torch>=1.11.0->sentence-transformers>=2.6.0->langchain_huggingface) (11.4.5.107)\n",
      "Requirement already satisfied: nvidia-cusparse-cu12==12.1.0.106 in /home/jupyter/.local/lib/python3.10/site-packages (from torch>=1.11.0->sentence-transformers>=2.6.0->langchain_huggingface) (12.1.0.106)\n",
      "Requirement already satisfied: nvidia-nccl-cu12==2.20.5 in /home/jupyter/.local/lib/python3.10/site-packages (from torch>=1.11.0->sentence-transformers>=2.6.0->langchain_huggingface) (2.20.5)\n",
      "Requirement already satisfied: nvidia-nvtx-cu12==12.1.105 in /home/jupyter/.local/lib/python3.10/site-packages (from torch>=1.11.0->sentence-transformers>=2.6.0->langchain_huggingface) (12.1.105)\n",
      "Requirement already satisfied: triton==2.3.0 in /home/jupyter/.local/lib/python3.10/site-packages (from torch>=1.11.0->sentence-transformers>=2.6.0->langchain_huggingface) (2.3.0)\n",
      "Requirement already satisfied: nvidia-nvjitlink-cu12 in /home/jupyter/.local/lib/python3.10/site-packages (from nvidia-cusolver-cu12==11.4.5.107->torch>=1.11.0->sentence-transformers>=2.6.0->langchain_huggingface) (12.5.40)\n",
      "Requirement already satisfied: joblib>=1.2.0 in /opt/conda/lib/python3.10/site-packages (from scikit-learn->sentence-transformers>=2.6.0->langchain_huggingface) (1.4.0)\n",
      "Requirement already satisfied: threadpoolctl>=2.0.0 in /opt/conda/lib/python3.10/site-packages (from scikit-learn->sentence-transformers>=2.6.0->langchain_huggingface) (3.4.0)\n",
      "Requirement already satisfied: MarkupSafe>=2.0 in /opt/conda/lib/python3.10/site-packages (from jinja2->torch>=1.11.0->sentence-transformers>=2.6.0->langchain_huggingface) (2.1.5)\n",
      "Requirement already satisfied: mpmath<1.4.0,>=1.1.0 in /home/jupyter/.local/lib/python3.10/site-packages (from sympy->torch>=1.11.0->sentence-transformers>=2.6.0->langchain_huggingface) (1.3.0)\n",
      "Using cached langchain_huggingface-0.0.3-py3-none-any.whl (17 kB)\n",
      "Using cached sentence_transformers-3.0.1-py3-none-any.whl (227 kB)\n",
      "Installing collected packages: sentence-transformers, langchain_huggingface\n",
      "Successfully installed langchain_huggingface-0.0.3 sentence-transformers-3.0.1\n"
     ]
    }
   ],
   "source": [
    "!pip install langchain_huggingface"
   ]
  },
  {
   "cell_type": "code",
   "execution_count": 29,
   "id": "cbfd4c18-8aac-4387-9897-7efa2d074d00",
   "metadata": {
    "tags": []
   },
   "outputs": [
    {
     "name": "stdout",
     "output_type": "stream",
     "text": [
      "Note: you may need to restart the kernel to use updated packages.\n"
     ]
    }
   ],
   "source": [
    "%pip install --upgrade --quiet  langchain sentence_transformers"
   ]
  },
  {
   "cell_type": "markdown",
   "id": "5b5fe3fd-fddf-4389-98e1-e8b80c06c753",
   "metadata": {
    "tags": []
   },
   "source": [
    "# Importing Libraries"
   ]
  },
  {
   "cell_type": "code",
   "execution_count": 4,
   "id": "8b2462ba-464b-43ee-8de2-5c29b9d55645",
   "metadata": {
    "tags": []
   },
   "outputs": [],
   "source": [
    "from langchain_core.documents import Document\n",
    "from langchain_text_splitters import RecursiveCharacterTextSplitter\n",
    "from tqdm import tqdm"
   ]
  },
  {
   "cell_type": "code",
   "execution_count": 6,
   "id": "e2ab6bae-caa6-41b0-8e77-ade848bc483c",
   "metadata": {
    "tags": []
   },
   "outputs": [],
   "source": [
    "from langchain_community.document_loaders import PyPDFLoader\n",
    "from langchain.vectorstores import Chroma\n",
    "from langchain_google_vertexai import VertexAIEmbeddings\n",
    "from langchain_text_splitters import RecursiveCharacterTextSplitter\n",
    "import os\n",
    "import json\n",
    "from langchain_huggingface import HuggingFaceEmbeddings"
   ]
  },
  {
   "cell_type": "markdown",
   "id": "eb0fc236-7075-4f32-a2e4-9e7ba6cd37ec",
   "metadata": {
    "tags": []
   },
   "source": [
    "# Loading Pdf and parsing"
   ]
  },
  {
   "cell_type": "code",
   "execution_count": 7,
   "id": "9cb3b961-c680-4eb4-a03a-d83488aca564",
   "metadata": {
    "tags": []
   },
   "outputs": [],
   "source": [
    "directory = \"/home/jupyter/Ask_victoria_sop/data/all_json\"\n",
    "filename=\"data_table_summary_21_06_24.json\"\n",
    "file_path = os.path.join(directory, filename)\n",
    "with open(file_path, 'r') as f:\n",
    "    data = json.load(f)"
   ]
  },
  {
   "cell_type": "code",
   "execution_count": 8,
   "id": "67160e85-408a-41d3-9271-776bb79e248c",
   "metadata": {
    "tags": []
   },
   "outputs": [
    {
     "data": {
      "text/plain": [
       "49"
      ]
     },
     "execution_count": 8,
     "metadata": {},
     "output_type": "execute_result"
    }
   ],
   "source": [
    "len(data)"
   ]
  },
  {
   "cell_type": "code",
   "execution_count": 9,
   "id": "f527db6b-9967-474e-9f7e-e0831f659b9d",
   "metadata": {
    "tags": []
   },
   "outputs": [],
   "source": [
    "# data"
   ]
  },
  {
   "cell_type": "code",
   "execution_count": 10,
   "id": "12174da3-3b05-431c-8bfc-9698253c231b",
   "metadata": {
    "tags": []
   },
   "outputs": [],
   "source": [
    "# data[0][\"content\"][\"text\"]"
   ]
  },
  {
   "cell_type": "code",
   "execution_count": 11,
   "id": "2c10f396-c354-4214-9437-e60b3c322594",
   "metadata": {
    "tags": []
   },
   "outputs": [
    {
     "data": {
      "text/plain": [
       "'\\nmyTalent is the hiring system where SLT and Talent Acquisition members post open positions, screen\\napplications, track candidate progress and extend offers.\\n• Stores are responsible for hiring all roles below CEM\\n• The Talent Acquisition team is responsible for hiring all CEM and above roles\\nREFERENCE GUIDE\\nRefer to myTalent resource documents in the myTalent & HR Access Store Reference Guide including:\\n• Quick Reference Guides (QRGs)\\n• Tips & Tricks\\n• Frequently Asked Questions (FAQs)\\n• Support Information\\n• Candidate Experience\\n• Store Connect Video: Build and Grow High Performing Teams > Selection and Interviews\\n• Virtual Assistant functionality for step-by-step transaction guidance\\nNAVIGATION\\nLog into HR Access, click My Talent. If prompted, enter your network ID and password and click Go. Reference the\\n“Navigation” section in the myTalent Store Reference Guide for additional navigation resources.\\nADMINISTRATION\\nAdd SLT members who are responsible for reviewing candidates (SMs or CEM’s) as “Collaborators” on the\\nrequisition. Review the Virtual Assistant functionality and QRG titled “Update Collaborators” for details.\\nHIRING PROCESS\\nJob Postings\\nYou should have at least (1) associate job posted to allow candidates to apply if you have open roles on your team.\\nJob postings should not exceed 3 months. Roles posted longer will not be as visible, which will reduce candidate flow.\\nAfter 1 month, close the posting and open a new one. Review the Virtual Assistant functionality and QRG titled “Open\\nand Post Job”\\nCandidate Experience\\nTo understand the myTalent candidate experience, reference “How a Candidate Applies to a Job” and “How a\\nCandidate Accepts Offer & Pre-Hire Tasks” QRGs.\\nInterview Process\\nReference the Interview Guide for directions on the (virtual) interview process. Prior to scheduling a phone screen or\\ninterview, review the Virtual Assistant functionality and QRGs titled “FAQ – myTalent Hiring Process – Stores\\nUS,CAN” and “Key Offer Steps – Stores US, CAN”. When there is interest in a candidate after a phone screen or\\ninterview, review the Virtual Assistant functionality and QRG titled “Manage a Candidate” to update the candidate’s\\nrecord in myTalent.\\nExtending an Offer to an External Candidate\\nWhen an external candidate is selected for a position, an SLT member must:\\n1) Contact the candidate with the employment offer and confirm start date, review the Virtual Assistant\\nfunctionality and QRG titled “Key Offer Steps – Stores US, CAN” for support, including talking points.\\n• Tell the candidate they must bring employment eligibility documentation for the I-9 on their\\nfirst day, or they will not be able to start work and their start date will be rescheduled.\\nQ3 10.12.2023 HR INFORMATION 5 . Review the Virtual Assistant functionality and\\nQRGs titled “Create an Offer” and “Extend an Offer”.\\nIMPORTANT: Contact HR Direct if the start date changes after an offer has been extended.\\nAfter the myTalent written offer is extended, the candidate receives an email with a link to review and accept the offer.\\nThey should accept the offer before their first day.\\n• The offer must be accepted to generate an Employee ID in HR Access and feed to downstream\\nsystems (i.e. ACES, Blueday, etc.). The Employee ID enables the associate to clock-in/out on\\ntheir first day. If the associate arrives on the first day without having accepted the offer, it must be\\ndone first thing.\\n• If a candidate deletes the employment offer email, they can go to lbnewhire.com. On\\nlbnewhire.com the candidate will be prompted to enter the same username and password they\\nused to apply with.\\nAfter accepting, they can complete their pre-hire tasks. They also receive an email before their first day of\\nemployment requesting that they complete Section 1 of the I-9 electronically (except in California).\\n• To confirm pre-hire tasks are complete, review the Virtual Assistant functionality and QRG titled\\n“Monitor Pre-Hire Task Completion – Stores US, CAN”.\\nExtending an Offer to an Internal Candidate\\nInternal candidates should not have electronic offers extended in myTalent. Once a decision has been made for an\\ninternal placement, follow the below steps:\\n1) Extend the verbal offer\\n2) Fill the requisition in myTalent (Review the Virtual Assistant functionality and QRG titled “Close a\\nJob”)\\n3) Process change in HR Access (Review the Virtual Assistant functionality and QRG titled “Transfer\\nAssociate” and “Promote Associate”)\\nClosing a Job Posting\\nClose the job posting when you are no longer recruiting for a position, or if the posting has reached 3 months. Review\\nthe Virtual Assistant functionality and QRG titled “Close a Job”.\\n'"
      ]
     },
     "execution_count": 11,
     "metadata": {},
     "output_type": "execute_result"
    }
   ],
   "source": [
    "\" \".join(data[0][\"content\"][\"text\"])"
   ]
  },
  {
   "cell_type": "code",
   "execution_count": 12,
   "id": "856fe2a7-e760-474e-8abe-b8d6c4f529f9",
   "metadata": {
    "tags": []
   },
   "outputs": [
    {
     "name": "stdout",
     "output_type": "stream",
     "text": [
      "count_html_table :  37\n",
      "count_summary :  37\n"
     ]
    }
   ],
   "source": [
    "count_html_table=0\n",
    "count_summary=0\n",
    "for i in data:\n",
    "    count_html_table+=len(i[\"content\"][\"html_table\"])\n",
    "    count_summary+=len(i[\"content\"][\"summary\"])\n",
    "    \n",
    "print(\"count_html_table : \", count_html_table)\n",
    "print(\"count_summary : \", count_summary)\n",
    "    \n",
    "    "
   ]
  },
  {
   "cell_type": "code",
   "execution_count": 13,
   "id": "11e60322-211e-4034-a643-7ab4316e0844",
   "metadata": {
    "tags": []
   },
   "outputs": [],
   "source": [
    "# data[0][\"content\"][\"html_table\"]==[]\n",
    "# data[0][\"content\"][\"summary\"]==[]"
   ]
  },
  {
   "cell_type": "code",
   "execution_count": 14,
   "id": "782c1686-da23-4282-baf3-685b7c241a2c",
   "metadata": {
    "tags": []
   },
   "outputs": [],
   "source": [
    "def create_langchain_documents(data):\n",
    "    content_docs = []\n",
    "    summary_html_docs = []\n",
    "    \n",
    "    for item in data:\n",
    "            m = item['metadata']\n",
    "            m['page_num']=str(m['page_num'])\n",
    "            m['actual_page']=str(m['actual_page'])\n",
    "            text = \" \".join(item[\"content\"][\"text\"])\n",
    "            content_docs.append(Document(page_content=text, metadata=m))\n",
    "            \n",
    "            if item['content']['html_table'] and (len(item[\"content\"][\"summary\"])==len(item[\"content\"][\"html_table\"])):\n",
    "                  for i in range(len(item['content']['html_table'])):\n",
    "                        summary_html_content = item['content']['summary'][i] + \" html table : \"+ item['content']['html_table'][i]\n",
    "                        summary_html_docs.append(Document(page_content=summary_html_content, metadata=m))\n",
    "                        \n",
    "                        \n",
    "    return content_docs,summary_html_docs\n",
    "                    "
   ]
  },
  {
   "cell_type": "code",
   "execution_count": 15,
   "id": "4125e4ec-3da8-4063-b373-738ea8e119c8",
   "metadata": {
    "tags": []
   },
   "outputs": [],
   "source": [
    "content_docs,summary_html_docs=create_langchain_documents(data)"
   ]
  },
  {
   "cell_type": "code",
   "execution_count": 16,
   "id": "a308b5f6-44be-4885-a012-bbb0c3797901",
   "metadata": {
    "tags": []
   },
   "outputs": [
    {
     "data": {
      "text/plain": [
       "37"
      ]
     },
     "execution_count": 16,
     "metadata": {},
     "output_type": "execute_result"
    }
   ],
   "source": [
    "len(summary_html_docs)"
   ]
  },
  {
   "cell_type": "code",
   "execution_count": 17,
   "id": "4cf2270c-fac2-4cec-9454-611188f0867a",
   "metadata": {
    "tags": []
   },
   "outputs": [
    {
     "data": {
      "text/plain": [
       "Document(page_content='The table compares and contrasts the responsibilities of the new hire and the SLT (Sales Leadership Team) regarding the completion of the I-9 form, a document used for verifying the identity and employment authorization of individuals working in the United States. Section 1 of the I-9 form, focusing on Associate Information and Verification, must be completed by the new hire either before or on their first day of employment. The new hire is responsible for reviewing and verifying the information provided and digitally signing the form. If the new hire needs assistance, a translator can help them complete this section. It is important to note that the SLT should never enter information in Section 1 on behalf of the associate.Section 2 of the I-9 form, focusing on Employer Review and Verification, must be completed by the SLT on the new hire’s first day of employment. The SLT is responsible for reviewing the documents presented by the new hire, ensuring their authenticity and relevance to the information provided in Section 1. The SLT must physically examine the documents, compare them to the information provided, and confirm that the documents reasonably appear to be genuine. The SLT and the new hire must both be physically present during the examination of the documents. Once the SLT has reviewed and verified the information and documents, they must digitally sign Section 2 of the I-9 form. Photocopies of documents are not acceptable for this verification process. html table : <table>\\n<thead>\\n<tr>\\n<th>Section 1: Associate Information<br>and Verification</th>\\n<th>Section 2: Employer Review<br>and Verification</th>\\n</tr>\\n</thead>\\n<tbody>\\n<tr>\\n<td>Section 1 is completed by the new hire before or on the first day of<br>employment<br>On the first day of employment, SLT must login to HR Access, select \"I-<br>9\", then use the search function to find the new hire’s 1-9 form<br>• Search by associate name or 11-digit Employee ID<br>If not already complete, the associate verifies the information and<br>digitally signs<br>Note: SLT should never enter information in Section 1 for the associate.<br>If the associate is unable to complete Section 1 on his/her own, it must<br>be completed by a translator.<br>If any corrections are made to Section 1, they also need to be updated in<br>HR Access</td>\\n<td>Section 2 is completed by SLT on the new hire’s first day of<br>employment<br>SLT may not tell the associate exactly which document(s) to present<br>• The associate must present either one document from List A or one<br>document each from Lists B AND C<br>Select the appropriate document type from the respective list and enter the<br>required information<br>•Accept any document from the list presented by the individual which<br>appears to be genuine and identifies the associate presenting the<br>document(s)<br>•Physically examine each original document the associate presents to<br>determine if it reasonably appears to be genuine and to relate to the<br>person presenting it<br>•The SLT member and the associate must both be physically<br>present during the examination of the document(s)<br>Note: Photocopies are NOT acceptable documents<br>Once the information is complete, SLT must digitally sign Section 2</td>\\n</tr>\\n</tbody>\\n</table>', metadata={'section': 'HR Information', 'subsection': 'First Day Employment Administration', 'page_num': \"{'from': 7, 'to': 9}\", 'actual_page': \"{'from': 6, 'to': 8}\"})"
      ]
     },
     "execution_count": 17,
     "metadata": {},
     "output_type": "execute_result"
    }
   ],
   "source": [
    "summary_html_docs[0]"
   ]
  },
  {
   "cell_type": "code",
   "execution_count": 18,
   "id": "85198d46-c509-448b-97ba-94c77c5a65dd",
   "metadata": {},
   "outputs": [],
   "source": [
    "# import os\n",
    "# import json\n",
    "\n",
    "# # Directory containing the JSON files\n",
    "\n",
    "# directory = \"/home/jupyter/Ask_victoria_sop/data/all_json/v2_with_table_summary\"\n",
    "\n",
    "# documents = []\n",
    "\n",
    "# # List all JSON files in the directory\n",
    "# for filename in os.listdir(directory):\n",
    "#     if filename.endswith(\".json\"):\n",
    "#         file_path = os.path.join(directory, filename)\n",
    "#         with open(file_path, 'r') as f:\n",
    "#             data = json.load(f)\n",
    "\n",
    "#         for item in data:\n",
    "#             m = item['metadata']\n",
    "#             m['page_num']=str(m['page_num'])\n",
    "#             m['actual_page']=str(m['actual_page'])\n",
    "#             text = item[\"content\"]\n",
    "#             documents.append(Document(page_content=text, metadata=m))\n",
    "\n",
    "# Now, documents contain all processed Document objects from the JSON files in the directory\n"
   ]
  },
  {
   "cell_type": "code",
   "execution_count": 19,
   "id": "663618f9-0514-40d9-b443-257b212de8a6",
   "metadata": {
    "tags": []
   },
   "outputs": [],
   "source": [
    "# m['page_num']"
   ]
  },
  {
   "cell_type": "markdown",
   "id": "43b1c83f-98d8-426f-9188-a566e4089374",
   "metadata": {
    "tags": []
   },
   "source": [
    "# Splitting Documents"
   ]
  },
  {
   "cell_type": "code",
   "execution_count": 20,
   "id": "430ccc48-037a-4c4b-aff3-036a540f67c1",
   "metadata": {
    "tags": []
   },
   "outputs": [
    {
     "data": {
      "text/plain": [
       "116"
      ]
     },
     "execution_count": 20,
     "metadata": {},
     "output_type": "execute_result"
    }
   ],
   "source": [
    "\n",
    "text_splitter = RecursiveCharacterTextSplitter(chunk_size=1600, chunk_overlap=240)\n",
    "splits = text_splitter.split_documents(content_docs)\n",
    "len(splits)"
   ]
  },
  {
   "cell_type": "code",
   "execution_count": 21,
   "id": "056b3ed3-6574-43cb-b742-8f9cbc6efb4b",
   "metadata": {
    "tags": []
   },
   "outputs": [],
   "source": [
    "splits_content_table=splits + summary_html_docs"
   ]
  },
  {
   "cell_type": "code",
   "execution_count": 22,
   "id": "9cb75499-5c88-4f29-b2a9-3eecf57fe19c",
   "metadata": {
    "tags": []
   },
   "outputs": [],
   "source": [
    "# splits_content_table[115:118]"
   ]
  },
  {
   "cell_type": "code",
   "execution_count": 23,
   "id": "c4e42311-9ffa-48cb-9e2c-0aa5f0d6e6b6",
   "metadata": {
    "tags": []
   },
   "outputs": [
    {
     "data": {
      "text/plain": [
       "153"
      ]
     },
     "execution_count": 23,
     "metadata": {},
     "output_type": "execute_result"
    }
   ],
   "source": [
    "len(splits)\n",
    "len(splits_content_table)"
   ]
  },
  {
   "cell_type": "markdown",
   "id": "dfd3a578-4c64-42a8-93b5-e71449322152",
   "metadata": {
    "tags": []
   },
   "source": [
    "# Loading Text Embedding model"
   ]
  },
  {
   "cell_type": "code",
   "execution_count": 24,
   "id": "b159f7bd-f2a6-4deb-8143-32d43e361ece",
   "metadata": {
    "tags": []
   },
   "outputs": [],
   "source": [
    "# embeddings = VertexAIEmbeddings(model_name=\"textembedding-gecko@001\")"
   ]
  },
  {
   "cell_type": "code",
   "execution_count": null,
   "id": "8f081cec-3754-4a30-bdf0-34bcdc85c9d5",
   "metadata": {},
   "outputs": [],
   "source": []
  },
  {
   "cell_type": "code",
   "execution_count": 25,
   "id": "5b69defd-fb62-468b-8168-990e18c0f532",
   "metadata": {
    "tags": []
   },
   "outputs": [],
   "source": [
    "# embeddings2 = VertexAIEmbeddings(model_name=\"text-embedding-004\")"
   ]
  },
  {
   "cell_type": "code",
   "execution_count": 35,
   "id": "020af084-fdc9-401c-b3fb-ecd7b20bd3fd",
   "metadata": {
    "tags": []
   },
   "outputs": [
    {
     "data": {
      "application/vnd.jupyter.widget-view+json": {
       "model_id": "ffd4900b5ba149dd9c6faf0eb27498ac",
       "version_major": 2,
       "version_minor": 0
      },
      "text/plain": [
       "modules.json:   0%|          | 0.00/349 [00:00<?, ?B/s]"
      ]
     },
     "metadata": {},
     "output_type": "display_data"
    },
    {
     "data": {
      "application/vnd.jupyter.widget-view+json": {
       "model_id": "b98c5a385b434e8ead5aa776e26e4ae3",
       "version_major": 2,
       "version_minor": 0
      },
      "text/plain": [
       "config_sentence_transformers.json:   0%|          | 0.00/124 [00:00<?, ?B/s]"
      ]
     },
     "metadata": {},
     "output_type": "display_data"
    },
    {
     "data": {
      "application/vnd.jupyter.widget-view+json": {
       "model_id": "a01c7b154e00419eb69196b546f8c558",
       "version_major": 2,
       "version_minor": 0
      },
      "text/plain": [
       "README.md:   0%|          | 0.00/94.6k [00:00<?, ?B/s]"
      ]
     },
     "metadata": {},
     "output_type": "display_data"
    },
    {
     "data": {
      "application/vnd.jupyter.widget-view+json": {
       "model_id": "39557826d1d747bc86d0c9eda47a2b97",
       "version_major": 2,
       "version_minor": 0
      },
      "text/plain": [
       "sentence_bert_config.json:   0%|          | 0.00/52.0 [00:00<?, ?B/s]"
      ]
     },
     "metadata": {},
     "output_type": "display_data"
    },
    {
     "data": {
      "application/vnd.jupyter.widget-view+json": {
       "model_id": "4e21d78a333d4f3c90430ab1e5bd0a35",
       "version_major": 2,
       "version_minor": 0
      },
      "text/plain": [
       "config.json:   0%|          | 0.00/779 [00:00<?, ?B/s]"
      ]
     },
     "metadata": {},
     "output_type": "display_data"
    },
    {
     "data": {
      "application/vnd.jupyter.widget-view+json": {
       "model_id": "2e93817475394c59b29c0e6bed11f83f",
       "version_major": 2,
       "version_minor": 0
      },
      "text/plain": [
       "model.safetensors:   0%|          | 0.00/1.34G [00:00<?, ?B/s]"
      ]
     },
     "metadata": {},
     "output_type": "display_data"
    },
    {
     "data": {
      "application/vnd.jupyter.widget-view+json": {
       "model_id": "d8ce9357b4244e4c8d8da1bb8250c35e",
       "version_major": 2,
       "version_minor": 0
      },
      "text/plain": [
       "tokenizer_config.json:   0%|          | 0.00/366 [00:00<?, ?B/s]"
      ]
     },
     "metadata": {},
     "output_type": "display_data"
    },
    {
     "data": {
      "application/vnd.jupyter.widget-view+json": {
       "model_id": "c5ac15fb578848af93fc1eacbe2f188f",
       "version_major": 2,
       "version_minor": 0
      },
      "text/plain": [
       "vocab.txt:   0%|          | 0.00/232k [00:00<?, ?B/s]"
      ]
     },
     "metadata": {},
     "output_type": "display_data"
    },
    {
     "data": {
      "application/vnd.jupyter.widget-view+json": {
       "model_id": "aec61ec1f2a24297a2d0a00e310c89de",
       "version_major": 2,
       "version_minor": 0
      },
      "text/plain": [
       "tokenizer.json:   0%|          | 0.00/711k [00:00<?, ?B/s]"
      ]
     },
     "metadata": {},
     "output_type": "display_data"
    },
    {
     "data": {
      "application/vnd.jupyter.widget-view+json": {
       "model_id": "cae1bd4680d64b80b40e122b34facb6d",
       "version_major": 2,
       "version_minor": 0
      },
      "text/plain": [
       "special_tokens_map.json:   0%|          | 0.00/125 [00:00<?, ?B/s]"
      ]
     },
     "metadata": {},
     "output_type": "display_data"
    },
    {
     "data": {
      "application/vnd.jupyter.widget-view+json": {
       "model_id": "109a776faefa45819e23df1931663972",
       "version_major": 2,
       "version_minor": 0
      },
      "text/plain": [
       "1_Pooling/config.json:   0%|          | 0.00/191 [00:00<?, ?B/s]"
      ]
     },
     "metadata": {},
     "output_type": "display_data"
    }
   ],
   "source": [
    "# Requires sentence_transformers>=2.7.0\n",
    "\n",
    "# from sentence_transformers import SentenceTransformer\n",
    "\n",
    "embeddings = HuggingFaceEmbeddings(model_name='BAAI/bge-large-en-v1.5', show_progress= True)"
   ]
  },
  {
   "cell_type": "code",
   "execution_count": null,
   "id": "ef19a07f-7ee3-489b-8124-9fba6baa1f63",
   "metadata": {},
   "outputs": [],
   "source": []
  },
  {
   "cell_type": "code",
   "execution_count": null,
   "id": "82fb4c01-e924-4ca9-8788-4a17500abccf",
   "metadata": {},
   "outputs": [],
   "source": []
  },
  {
   "cell_type": "markdown",
   "id": "330f10cd-7af8-4aa7-88cf-e3afa8b5d2b1",
   "metadata": {
    "tags": []
   },
   "source": [
    "# Index Creation"
   ]
  },
  {
   "cell_type": "code",
   "execution_count": null,
   "id": "8379886d-7cb3-4c2f-a08f-31abc6167cde",
   "metadata": {
    "tags": []
   },
   "outputs": [
    {
     "data": {
      "application/vnd.jupyter.widget-view+json": {
       "model_id": "82d7cc4ecd70474caaa0b3958fec9181",
       "version_major": 2,
       "version_minor": 0
      },
      "text/plain": [
       "Batches:   0%|          | 0/5 [00:00<?, ?it/s]"
      ]
     },
     "metadata": {},
     "output_type": "display_data"
    }
   ],
   "source": [
    "\n",
    "persist_directory=\"/home/jupyter/Ask_victoria_sop/data/chroma_versions/cdb_1_section_table_summary_1600_240_bge-large\"\n",
    "\n",
    "\n",
    "vectorstore = Chroma.from_documents(collection_name=\"collection1\",documents=splits_content_table, embedding=embeddings,persist_directory=persist_directory)"
   ]
  },
  {
   "cell_type": "code",
   "execution_count": null,
   "id": "3cdb0b30-91e5-495a-a0b5-2dd973673310",
   "metadata": {
    "tags": []
   },
   "outputs": [],
   "source": [
    "vectorstore._collection.count()"
   ]
  },
  {
   "cell_type": "code",
   "execution_count": null,
   "id": "64563276-aeb3-490b-91f8-e18080946712",
   "metadata": {},
   "outputs": [],
   "source": [
    "r1=vectorstore.as_retriever()\n",
    "r1.invoke(\"WHEN one should  ENTER TERMINATION IN HR ACCESS for  end of temporary employement?\")"
   ]
  },
  {
   "cell_type": "code",
   "execution_count": null,
   "id": "3352c07b-26bf-4529-8924-408d31c3e7e6",
   "metadata": {
    "tags": []
   },
   "outputs": [],
   "source": [
    "r1.invoke(\"<html>\")"
   ]
  },
  {
   "cell_type": "code",
   "execution_count": 108,
   "id": "09895889-a181-4268-a7a1-8da5c151808a",
   "metadata": {},
   "outputs": [],
   "source": [
    "# all_data=vectorstore.get(include =['embeddings','documents','metadatas'])"
   ]
  },
  {
   "cell_type": "code",
   "execution_count": 95,
   "id": "1977b88a-cf77-4aeb-b89e-1b0f052d4bee",
   "metadata": {
    "tags": []
   },
   "outputs": [],
   "source": [
    "\n",
    "\n",
    "# structured_data = {\n",
    "#     'ids': all_data['ids'],\n",
    "#     'embeddings': all_data['embeddings'] ,\n",
    "#     'metadatas': all_data['metadatas'],\n",
    "#     'documents': all_data['documents']\n",
    "# }"
   ]
  },
  {
   "cell_type": "code",
   "execution_count": 96,
   "id": "7c2e9591-d1ac-4c53-9032-952d49c82b65",
   "metadata": {
    "tags": []
   },
   "outputs": [],
   "source": [
    "# # Step 4: Serialize the data using pickle\n",
    "# pickle_file_path = '/home/jupyter/Ask_victoria_sop/chromadb_embeddings/chromadb_data.pkl'\n",
    "# with open(pickle_file_path, 'wb') as file:\n",
    "#     pickle.dump(structured_data, file)"
   ]
  },
  {
   "cell_type": "code",
   "execution_count": 6,
   "id": "8675b482-f7c3-4e22-bceb-839b17a05812",
   "metadata": {
    "tags": []
   },
   "outputs": [],
   "source": [
    "# import pickle\n",
    "# pickle_file_path = '/home/jupyter/Ask_victoria_sop/chromadb_embeddings/chromadb_data.pkl'\n",
    "# with open(pickle_file_path, 'rb') as file:\n",
    "#     new=pickle.load(file)"
   ]
  },
  {
   "cell_type": "code",
   "execution_count": null,
   "id": "d05337ee-d413-426a-9d48-6d24511e049e",
   "metadata": {},
   "outputs": [],
   "source": []
  }
 ],
 "metadata": {
  "kernelspec": {
   "display_name": "Python (Local)",
   "language": "python",
   "name": "base"
  },
  "language_info": {
   "codemirror_mode": {
    "name": "ipython",
    "version": 3
   },
   "file_extension": ".py",
   "mimetype": "text/x-python",
   "name": "python",
   "nbconvert_exporter": "python",
   "pygments_lexer": "ipython3",
   "version": "3.10.14"
  }
 },
 "nbformat": 4,
 "nbformat_minor": 5
}
